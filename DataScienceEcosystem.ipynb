{
 "cells": [
  {
   "cell_type": "markdown",
   "id": "70724e88-76e8-4587-b1c4-7315b58297f7",
   "metadata": {},
   "source": [
    "# Data Science Tools and Ecosystem"
   ]
  },
  {
   "cell_type": "markdown",
   "id": "c65806ce-f4bf-4eb1-ac45-6aabcf0a2c28",
   "metadata": {},
   "source": [
    "In this notebook, Data Science Tools and Ecosystem are summarized."
   ]
  },
  {
   "cell_type": "markdown",
   "id": "17c40565-9ebf-416e-80e9-04f34b355d0f",
   "metadata": {},
   "source": [
    "**Objetives**"
   ]
  },
  {
   "cell_type": "markdown",
   "id": "9036634a-3be4-4281-9de2-adef151a895b",
   "metadata": {},
   "source": [
    "+ Describe how to run, insert and delete a cell in a notebook\n",
    "+ Work with multiple notebooks\n",
    "+ Shut down the notebook sesion\n",
    "+ Present the Notebook"
   ]
  },
  {
   "cell_type": "markdown",
   "id": "91232438-4fba-491b-8cdd-d4a13e374488",
   "metadata": {},
   "source": [
    "### Popular Languages used by Data Scientists"
   ]
  },
  {
   "cell_type": "markdown",
   "id": "7c548b32-7b69-47c2-af8f-ba99c76e38e5",
   "metadata": {},
   "source": [
    "Some of the popular languages that Data Scientists use are:"
   ]
  },
  {
   "cell_type": "markdown",
   "id": "8f299ab2-7ed1-431c-9f25-27fab9aaceb5",
   "metadata": {},
   "source": [
    "* Python\n",
    "* R\n",
    "* Java\n",
    "* C++\n",
    "* JavaScript\n",
    "* Julia"
   ]
  },
  {
   "cell_type": "markdown",
   "id": "d8dc7070-83e4-436c-994d-2ebb985eddee",
   "metadata": {},
   "source": [
    "### Popular Libraries used by Data Scientists"
   ]
  },
  {
   "cell_type": "markdown",
   "id": "f23b69c7-b392-45e1-8e25-c2b1474ce50a",
   "metadata": {},
   "source": [
    "Some of the popular libraries that Data Scientists use are:"
   ]
  },
  {
   "cell_type": "markdown",
   "id": "204bc07d-a023-4257-9a3f-4a3b5245c4b0",
   "metadata": {},
   "source": [
    "* Pandas\n",
    "* Numpy\n",
    "* MatPlotLib\n",
    "* ggplot\n",
    "* dplyr\n",
    "* Scikitlearn\n",
    "* Tensorflow"
   ]
  },
  {
   "cell_type": "markdown",
   "id": "96ccdf14-22d9-4518-9146-a1762d95dbfc",
   "metadata": {},
   "source": [
    "### Data Science Tools"
   ]
  },
  {
   "cell_type": "markdown",
   "id": "65c74d51-fe49-4b95-afcc-cd9cb2d3b458",
   "metadata": {},
   "source": [
    "Some of the popular tools used in Data Science are:"
   ]
  },
  {
   "cell_type": "markdown",
   "id": "7da7813e-bd4a-4405-a4ee-c87d032fd139",
   "metadata": {},
   "source": [
    "|Development Env|Programming Lang|\n",
    "|---------------|----------------|\n",
    "|   RStudio     |       R        |\n",
    "|  JupyterLab   |   Various      |\n",
    "|   VS Studio   |    Various     |"
   ]
  },
  {
   "cell_type": "markdown",
   "id": "237e82f1-afe4-4764-86f4-38f231b5a457",
   "metadata": {},
   "source": [
    "### Below are a few examples of evaluating arithmetic expressions in Python"
   ]
  },
  {
   "cell_type": "markdown",
   "id": "e5e2e255-976f-480e-a1eb-c96c7448360b",
   "metadata": {},
   "source": [
    "This a simple arithmetic expression to mutiply then add integers"
   ]
  },
  {
   "cell_type": "code",
   "execution_count": 9,
   "id": "81b26491-f6aa-4280-9f2e-d81e53812e23",
   "metadata": {},
   "outputs": [
    {
     "data": {
      "text/plain": [
       "17"
      ]
     },
     "execution_count": 9,
     "metadata": {},
     "output_type": "execute_result"
    }
   ],
   "source": [
    "# math operation \n",
    "(3*4)+5"
   ]
  },
  {
   "cell_type": "markdown",
   "id": "ad69544c-b0ba-4e4c-a15c-a1271fb8c92f",
   "metadata": {},
   "source": [
    "This will convert 200 minutes to hours by diving by 60"
   ]
  },
  {
   "cell_type": "code",
   "execution_count": 12,
   "id": "15bdf0f4-5db7-4c8f-9e07-5bc575d0f4ed",
   "metadata": {},
   "outputs": [
    {
     "data": {
      "text/plain": [
       "3.3333333333333335"
      ]
     },
     "execution_count": 12,
     "metadata": {},
     "output_type": "execute_result"
    }
   ],
   "source": [
    "# math operation\n",
    "200/60"
   ]
  },
  {
   "cell_type": "markdown",
   "id": "dd7f41b2-c274-4f7c-8865-0fa79c313f06",
   "metadata": {},
   "source": [
    "## Autor"
   ]
  },
  {
   "cell_type": "markdown",
   "id": "d0e603bc-872c-40dd-bfea-45ba63645e7b",
   "metadata": {},
   "source": [
    "José Alexánder Estrada Hernández"
   ]
  },
  {
   "cell_type": "code",
   "execution_count": null,
   "id": "33c14a37-6658-4750-8a9c-2422f5195e2e",
   "metadata": {},
   "outputs": [],
   "source": []
  }
 ],
 "metadata": {
  "kernelspec": {
   "display_name": "Python [conda env:base] *",
   "language": "python",
   "name": "conda-base-py"
  },
  "language_info": {
   "codemirror_mode": {
    "name": "ipython",
    "version": 3
   },
   "file_extension": ".py",
   "mimetype": "text/x-python",
   "name": "python",
   "nbconvert_exporter": "python",
   "pygments_lexer": "ipython3",
   "version": "3.13.5"
  }
 },
 "nbformat": 4,
 "nbformat_minor": 5
}
